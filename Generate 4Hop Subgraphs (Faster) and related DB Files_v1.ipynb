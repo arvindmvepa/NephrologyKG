{
 "cells": [
  {
   "cell_type": "markdown",
   "id": "a539d5c4",
   "metadata": {},
   "source": [
    "### Create Subgraphs for each Question based on UMLS CUI"
   ]
  },
  {
   "cell_type": "code",
   "execution_count": null,
   "id": "9846e113",
   "metadata": {},
   "outputs": [],
   "source": [
    "import json\n",
    "import sys\n",
    "import os\n",
    "import time\n",
    "sys.path.append(\"subgraph.py\")\n",
    "from subgraph import get_onehop_subgraph, get_twohop_subgraph, get_threehop_subgraph, get_fourhop_subgraph\n",
    "#from subgraph import get_twohop_subgraph\n",
    "from collections import defaultdict"
   ]
  },
  {
   "cell_type": "code",
   "execution_count": null,
   "id": "08b25bfc",
   "metadata": {},
   "outputs": [],
   "source": [
    "data_root = '/Users/arvin/dev/GreaseLM/data_kg-umls2hop_q-sciel-noex'\n",
    "nephqa_root = f'{data_root}/nephqa'\n",
    "linked_q_file_path1 = f'{nephqa_root}/statement/train.statement.umls_linked.jsonl'\n",
    "linked_q_file_path2 = f'{nephqa_root}/statement/dev.statement.umls_linked.jsonl'\n",
    "linked_q_file_path3 = f'{nephqa_root}/statement/test.statement.umls_linked.jsonl'"
   ]
  },
  {
   "cell_type": "code",
   "execution_count": null,
   "id": "0c9ba7f1",
   "metadata": {
    "scrolled": true
   },
   "outputs": [],
   "source": [
    "start = time.time()\n",
    "subgraphs3 = await get_fourhop_subgraph(linked_q_file_path3)\n",
    "#subgraphs3 = await get_threehop_subgraph(linked_q_file_path3)\n",
    "#subgraphs3 = await get_twohop_subgraph(linked_q_file_path3)\n",
    "#subgraphs3 = await get_onehop_subgraph(linked_q_file_path3)\n",
    "end = time.time()\n",
    "f\"Time elapsed (s): {(end-start)}\""
   ]
  },
  {
   "cell_type": "code",
   "execution_count": null,
   "id": "eea6dcee",
   "metadata": {},
   "outputs": [],
   "source": [
    "start = time.time()\n",
    "subgraphs2 = await get_fourhop_subgraph(linked_q_file_path2)\n",
    "#subgraphs2 = await get_threehop_subgraph(linked_q_file_path2)\n",
    "#subgraphs2 = await get_twohop_subgraph(linked_q_file_path2)\n",
    "#subgraphs2 = await get_onehop_subgraph(linked_q_file_path2)\n",
    "end = time.time()\n",
    "f\"Time elapsed (s): {(end-start)}\""
   ]
  },
  {
   "cell_type": "code",
   "execution_count": null,
   "id": "fcef47b6",
   "metadata": {},
   "outputs": [],
   "source": [
    "start = time.time()\n",
    "subgraphs1 = await get_fourhop_subgraph(linked_q_file_path1)\n",
    "#subgraphs1 = await get_threehop_subgraph(linked_q_file_path1)\n",
    "#subgraphs1 = await get_twohop_subgraph(linked_q_file_path1)\n",
    "#subgraphs1 = await get_onehop_subgraph(linked_q_file_path1)\n",
    "end = time.time()\n",
    "f\"Time elapsed (s): {(end-start)}\""
   ]
  },
  {
   "cell_type": "code",
   "execution_count": null,
   "id": "4e6c6cb8",
   "metadata": {},
   "outputs": [],
   "source": [
    "subgraphs = subgraphs1 + subgraphs2 + subgraphs3"
   ]
  },
  {
   "cell_type": "code",
   "execution_count": null,
   "id": "8ec362a8",
   "metadata": {},
   "outputs": [],
   "source": [
    "subgraphs"
   ]
  },
  {
   "cell_type": "code",
   "execution_count": null,
   "id": "063dff90",
   "metadata": {},
   "outputs": [],
   "source": [
    "graph_counts = []\n",
    "for graph in subgraphs:\n",
    "    graph_count = 0\n",
    "    for path in graph:\n",
    "        if len(path) == 4:\n",
    "            graph_count += 1\n",
    "    graph_counts.append(graph_count)"
   ]
  },
  {
   "cell_type": "code",
   "execution_count": null,
   "id": "74198930",
   "metadata": {
    "scrolled": true
   },
   "outputs": [],
   "source": [
    "import numpy as np\n",
    "\n",
    "np.mean(graph_counts), np.std(graph_counts), np.max(graph_counts), np.min(graph_counts)"
   ]
  },
  {
   "cell_type": "markdown",
   "id": "4c8e8843",
   "metadata": {},
   "source": [
    "### Create relevant DB files"
   ]
  },
  {
   "cell_type": "code",
   "execution_count": null,
   "id": "22e124a8",
   "metadata": {},
   "outputs": [],
   "source": [
    "db_dir = f\"{data_root}/ddb\"\n",
    "if not os.path.exists(db_dir):\n",
    "    os.makedirs(db_dir)\n",
    "save_entities_file = os.path.join(db_dir, \"ddb_names.json\")\n",
    "save_relations_file = os.path.join(db_dir, \"ddb_relas.json\")\n",
    "save_ddb_to_umls_cui_file = os.path.join(db_dir, \"ddb_to_umls_cui.txt\")"
   ]
  },
  {
   "cell_type": "code",
   "execution_count": null,
   "id": "875cb356",
   "metadata": {},
   "outputs": [],
   "source": [
    "db_entities_json = {}\n",
    "db_to_umls = set()\n",
    "umls_to_db =  dict()\n",
    "db_entity_ids = defaultdict(lambda: len(db_entity_ids))\n",
    "\n",
    "db_relations_json = {}\n",
    "db_relation_ids = defaultdict(lambda: len(db_relation_ids))"
   ]
  },
  {
   "cell_type": "code",
   "execution_count": null,
   "id": "fcdbfd97",
   "metadata": {},
   "outputs": [],
   "source": []
  },
  {
   "cell_type": "code",
   "execution_count": null,
   "id": "0adaa380",
   "metadata": {},
   "outputs": [],
   "source": [
    "for graph in subgraphs:\n",
    "    for paths in graph:\n",
    "        if len(paths) == 4:\n",
    "            for path in paths:\n",
    "                entity_cuis = path[0], path[2] \n",
    "                entity_names = path[1], path[3]\n",
    "                rel = path[4]\n",
    "                # add entities\n",
    "                for cui, name in zip(entity_cuis, entity_names):\n",
    "                    db_id = db_entity_ids[cui]\n",
    "                    db_to_umls.add((db_id, cui))\n",
    "                    umls_to_db[cui] = db_id\n",
    "                    db_entities_json[name] = [db_id, \"1\"]\n",
    "                # add relations\n",
    "                subj, obj = entity_cuis\n",
    "                subj_id = db_entity_ids[subj]\n",
    "                obj_id = db_entity_ids[obj]\n",
    "                add_relation = (subj_id, obj_id, rel)\n",
    "                relation_id = db_relation_ids[add_relation]\n",
    "                db_relations_json[relation_id] = list(add_relation)"
   ]
  },
  {
   "cell_type": "code",
   "execution_count": null,
   "id": "1ca35af3",
   "metadata": {},
   "outputs": [],
   "source": [
    "with open(save_ddb_to_umls_cui_file, 'w', encoding='utf-8') as f:\n",
    "    f.write('\\t'.join([\"LinkItemsToUMLSCUIID\", \"ItemPTR\", \"CUI\", \"ItemToUMLSCUILinkTypePTR\"]) + '\\n')\n",
    "    for row in sorted(list(db_to_umls)):\n",
    "        db_ptr = row[0]\n",
    "        cui = row[1]\n",
    "        row = [\"0\", str(db_ptr), cui, \"0\"]\n",
    "        f.write('\\t'.join(row) + '\\n')"
   ]
  },
  {
   "cell_type": "code",
   "execution_count": null,
   "id": "54f42036",
   "metadata": {},
   "outputs": [],
   "source": [
    "with open(save_entities_file, 'w') as f:\n",
    "    #json.dump(db_entities_json, f)"
   ]
  },
  {
   "cell_type": "code",
   "execution_count": null,
   "id": "f68c85b8",
   "metadata": {},
   "outputs": [],
   "source": [
    "with open(save_relations_file, 'w') as f:\n",
    "    #json.dump(db_relations_json, f)"
   ]
  },
  {
   "cell_type": "code",
   "execution_count": null,
   "id": "364ec7f0",
   "metadata": {},
   "outputs": [],
   "source": [
    "print(1)"
   ]
  },
  {
   "cell_type": "code",
   "execution_count": null,
   "id": "893bdc77",
   "metadata": {},
   "outputs": [],
   "source": [
    "print(2)"
   ]
  },
  {
   "cell_type": "code",
   "execution_count": null,
   "id": "c3161bf1",
   "metadata": {},
   "outputs": [],
   "source": []
  }
 ],
 "metadata": {
  "kernelspec": {
   "display_name": "Python 3 (ipykernel)",
   "language": "python",
   "name": "python3"
  },
  "language_info": {
   "codemirror_mode": {
    "name": "ipython",
    "version": 3
   },
   "file_extension": ".py",
   "mimetype": "text/x-python",
   "name": "python",
   "nbconvert_exporter": "python",
   "pygments_lexer": "ipython3",
   "version": "3.9.12"
  }
 },
 "nbformat": 4,
 "nbformat_minor": 5
}
