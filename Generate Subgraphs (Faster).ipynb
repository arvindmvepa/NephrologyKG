{
 "cells": [
  {
   "cell_type": "markdown",
   "id": "5fef4afc",
   "metadata": {},
   "source": [
    "### Create Subgraphs for each Question based on UMLS CUI"
   ]
  },
  {
   "cell_type": "code",
   "execution_count": null,
   "id": "9846e113",
   "metadata": {},
   "outputs": [],
   "source": [
    "import json\n",
    "import sys\n",
    "sys.path.append(\"relation.py\")\n",
    "from relation import async_get_relations, get_all_relations"
   ]
  },
  {
   "cell_type": "code",
   "execution_count": null,
   "id": "08b25bfc",
   "metadata": {},
   "outputs": [],
   "source": [
    "nephqa_root = f'/Users/arvin/dev/GreaseLM/data_kg-dd-db-10text-sciel-1zero_q-sciel-noex/nephqa'"
   ]
  },
  {
   "cell_type": "code",
   "execution_count": null,
   "id": "675f7448",
   "metadata": {},
   "outputs": [],
   "source": [
    "# load entity linking results\n",
    "basefile = f'{nephqa_root}/statement/test.statement.umls_linked.jsonl'\n",
    "\n",
    "with open(basefile) as f:\n",
    "    lines = f.readlines()\n",
    "\n",
    "json_lines = [json.loads(line) for line in lines]"
   ]
  },
  {
   "cell_type": "code",
   "execution_count": null,
   "id": "257918a6",
   "metadata": {},
   "outputs": [],
   "source": [
    "# get all the CUIs per question text\n",
    "question_cuis = []\n",
    "for json_line in json_lines:\n",
    "        ent_results = [v for ent in json_line['question']['stem_ents'] \n",
    "                       for k,v in ent.items() if k == 'linking_results']\n",
    "        cuis = [ent['Concept ID'] for ent_matches in ent_results \n",
    "                for ent in ent_matches]\n",
    "        question_cuis.append(cuis)"
   ]
  },
  {
   "cell_type": "code",
   "execution_count": null,
   "id": "08ae7f85",
   "metadata": {},
   "outputs": [],
   "source": [
    "# get all the CUIs per choice per question \n",
    "answer_cuis = []\n",
    "for json_line in json_lines:\n",
    "        choice_cuis = []\n",
    "        for choice in json_line['question']['choices']:\n",
    "            cuis = [ent_match['Concept ID'] \n",
    "                    for ent_results in choice['text_ents'] \n",
    "                    for ent_match in ent_results['linking_results']]\n",
    "            choice_cuis.append(cuis)\n",
    "        answer_cuis.append(choice_cuis)"
   ]
  },
  {
   "cell_type": "code",
   "execution_count": null,
   "id": "aa98fe1d",
   "metadata": {},
   "outputs": [],
   "source": [
    "async def get_all_related_cuis(CUI, session):\n",
    "    json_response = await async_get_relations(CUI, session)\n",
    "    all_related_cuis = []\n",
    "    if \"result\" in json_response:\n",
    "        for rel in json_response[\"result\"]:\n",
    "            url_split = rel[\"relatedId\"].split('/')\n",
    "            related_cuis = [url_split[-1]]\n",
    "            if len(related_cuis) > 0:\n",
    "                all_related_cuis.extend([(rel_cui, rel[\"relationLabel\"], \n",
    "                                          rel[\"additionalRelationLabel\"]) \n",
    "                                         for rel_cui in related_cuis])\n",
    "    return all_related_cuis\n",
    "\n",
    "\n",
    "async def get_two_hop_paths(source_cuis, dest_cuis, session, index):\n",
    "    two_hop_paths = []\n",
    "    for i, source_cui in enumerate(source_cuis):\n",
    "        print(f\"{index}  {i}\")\n",
    "        int_cuis_rels = await get_all_related_cuis(source_cui, session)\n",
    "        for j, (int_cui, int_rel1, int_rel2) in enumerate(int_cuis_rels):\n",
    "            print(f\"{index}  {i}.{j}\")\n",
    "            target_cuis_rels = await get_all_related_cuis(int_cui, session)\n",
    "            two_hop_paths.extend([[(source_cui, int_cui, int_rel1, int_rel2), \n",
    "                                   (int_cui, target_cui, target_rel1, target_rel2)] \n",
    "                                  for target_cui, target_rel1, target_rel2 in target_cuis_rels \n",
    "                                  if target_cui in dest_cuis])\n",
    "    return two_hop_paths"
   ]
  },
  {
   "cell_type": "code",
   "execution_count": null,
   "id": "0c9ba7f1",
   "metadata": {},
   "outputs": [],
   "source": [
    "# get 2-hop subgraphs from question_cuis and answer_cuis using parallelized approach\n",
    "\n",
    "import asyncio\n",
    "import aiohttp\n",
    "import time\n",
    "\n",
    "\n",
    "# for parallelizing http requests, reference this: https://stackoverflow.com/questions/57126286/fastest-parallel-requests-in-python\n",
    "async def main(question_cuis, answer_cuis):\n",
    "    async with aiohttp.ClientSession() as session:\n",
    "        subgraphs = await asyncio.gather(*[get_two_hop_paths(q_cuis, a_choice_cuis, session, (i,j)) \n",
    "                                     for i, (q_cuis, a_choices_cuis) in enumerate(zip(question_cuis, answer_cuis)) \n",
    "                                     for j, a_choice_cuis in enumerate(a_choices_cuis)])\n",
    "    print(\"Finalized all. Return is a list of len {} outputs.\".format(len(subgraphs)))\n",
    "    return subgraphs\n",
    "\n",
    "\n",
    "start = time.time()\n",
    "subgraphs = await main(question_cuis, answer_cuis)\n",
    "end = time.time()"
   ]
  },
  {
   "cell_type": "code",
   "execution_count": null,
   "id": "b80fedb9",
   "metadata": {},
   "outputs": [],
   "source": [
    "print(1)"
   ]
  },
  {
   "cell_type": "code",
   "execution_count": null,
   "id": "dad46f45",
   "metadata": {},
   "outputs": [],
   "source": [
    "subgraphs[0]"
   ]
  },
  {
   "cell_type": "code",
   "execution_count": null,
   "id": "063dff90",
   "metadata": {},
   "outputs": [],
   "source": [
    "graph_counts = []\n",
    "for graph in subgraphs[1000:]:\n",
    "    graph_count = 0\n",
    "    for node in graph:\n",
    "        if len(node) == 2:\n",
    "            graph_count += 1\n",
    "    graph_counts.append(graph_count)"
   ]
  },
  {
   "cell_type": "code",
   "execution_count": null,
   "id": "74198930",
   "metadata": {},
   "outputs": [],
   "source": [
    "import numpy as np\n",
    "\n",
    "np.mean(graph_counts), np.std(graph_counts), np.max(graph_counts), np.min(graph_counts), len(graph_counts)"
   ]
  },
  {
   "cell_type": "code",
   "execution_count": null,
   "id": "2029aec6",
   "metadata": {},
   "outputs": [],
   "source": []
  }
 ],
 "metadata": {
  "kernelspec": {
   "display_name": "Python 3 (ipykernel)",
   "language": "python",
   "name": "python3"
  },
  "language_info": {
   "codemirror_mode": {
    "name": "ipython",
    "version": 3
   },
   "file_extension": ".py",
   "mimetype": "text/x-python",
   "name": "python",
   "nbconvert_exporter": "python",
   "pygments_lexer": "ipython3",
   "version": "3.9.12"
  }
 },
 "nbformat": 4,
 "nbformat_minor": 5
}
