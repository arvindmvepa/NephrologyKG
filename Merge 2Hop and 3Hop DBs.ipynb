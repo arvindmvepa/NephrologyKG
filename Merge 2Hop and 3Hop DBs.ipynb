{
 "cells": [
  {
   "cell_type": "code",
   "execution_count": null,
   "id": "fb8943e2",
   "metadata": {},
   "outputs": [],
   "source": [
    "import json\n",
    "import os\n",
    "from collections import defaultdict"
   ]
  },
  {
   "cell_type": "code",
   "execution_count": null,
   "id": "327e2030",
   "metadata": {},
   "outputs": [],
   "source": [
    "twohop_db = '/home/nirc/Arvind/neph_graph/greaselm_data/data_kg-umls2hop_q-sciel-noex/ddb'\n",
    "threehop_db = '/home/nirc/Arvind/neph_graph/greaselm_data/data_kg-umls3hop_q-sciel-noex/ddb'\n",
    "target_db = '/home/nirc/Arvind/neph_graph/greaselm_data/data_kg-umls23hop_q-sciel-noex/ddb'"
   ]
  },
  {
   "cell_type": "code",
   "execution_count": null,
   "id": "d4158612",
   "metadata": {},
   "outputs": [],
   "source": [
    "target_db_dir = f\"{target_db}/ddb\"\n",
    "if not os.path.exists(target_db_dir):\n",
    "    os.makedirs(target_db_dir)"
   ]
  },
  {
   "cell_type": "code",
   "execution_count": null,
   "id": "9d337b94",
   "metadata": {},
   "outputs": [],
   "source": [
    "twohop_entities_file = os.path.join(twohop_db, \"ddb_names.json\")\n",
    "twohop_relations_file = os.path.join(twohop_db, \"ddb_relas.json\")\n",
    "twohop_ddb_to_umls_cui_file = os.path.join(twohop_db, \"ddb_to_umls_cui.txt\")\n",
    "\n",
    "threehop_entities_file = os.path.join(threehop_db, \"ddb_names.json\")\n",
    "threehop_relations_file = os.path.join(threehop_db, \"ddb_relas.json\")\n",
    "threehop_ddb_to_umls_cui_file = os.path.join(threehop_db, \"ddb_to_umls_cui.txt\")\n",
    "\n",
    "target_entities_file = os.path.join(target_db, \"ddb_names.json\")\n",
    "target_relations_file = os.path.join(target_db, \"ddb_relas.json\")\n",
    "target_ddb_to_umls_cui_file = os.path.join(target_db, \"ddb_to_umls_cui.txt\")"
   ]
  },
  {
   "cell_type": "code",
   "execution_count": null,
   "id": "084e7cee",
   "metadata": {},
   "outputs": [],
   "source": [
    "with open(twohop_entities_file) as f:\n",
    "    twohop_entities_dict = json.load(f)\n",
    "with open(twohop_relations_file) as f:\n",
    "    twohop_relations_dict = json.load(f)\n",
    "with open(twohop_ddb_to_umls_cui_file) as f:\n",
    "    twohop_ddb_to_umls_cui_list = f.read().splitlines()[1:]\n",
    "    twohop_ddb_to_umls_cui_list = [l.split(\"\\t\") for l in twohop_ddb_to_umls_cui_list]\n",
    "    \n",
    "with open(threehop_entities_file) as f:\n",
    "    threehop_entities_dict = json.load(f)\n",
    "with open(threehop_relations_file) as f:\n",
    "    threehop_relations_dict = json.load(f)\n",
    "with open(threehop_ddb_to_umls_cui_file) as f:\n",
    "    threehop_ddb_to_umls_cui_list = f.read().splitlines()[1:] \n",
    "    threehop_ddb_to_umls_cui_list = [l.split(\"\\t\") for l in threehop_ddb_to_umls_cui_list]"
   ]
  },
  {
   "cell_type": "code",
   "execution_count": null,
   "id": "ba3002f4",
   "metadata": {},
   "outputs": [],
   "source": [
    "db_entities_json = {}\n",
    "db_to_umls = set()\n",
    "umls_to_db =  dict()\n",
    "db_entity_ids = defaultdict(lambda: len(db_entity_ids))\n",
    "\n",
    "db_relations_json = {}\n",
    "db_relation_ids = defaultdict(lambda: len(db_relation_ids))"
   ]
  },
  {
   "cell_type": "code",
   "execution_count": null,
   "id": "f3786590",
   "metadata": {},
   "outputs": [],
   "source": [
    "# add entity information\n",
    "for _,str_db_id,cui,_ in twohop_ddb_to_umls_cui_list:\n",
    "    db_id = db_entity_ids[cui]\n",
    "    db_to_umls.add((db_id, cui))\n",
    "    umls_to_db[cui] = db_id\n",
    "\n",
    "    old_db_id = int(str_db_id)\n",
    "    for name,(old_id,_) in twohop_entities_dict.items():\n",
    "        if old_id == old_db_id:\n",
    "            db_entities_json[name] = [db_id, \"1\"]\n",
    "\n",
    "for _,str_db_id,cui,_ in threehop_ddb_to_umls_cui_list:\n",
    "    db_id = db_entity_ids[cui]\n",
    "    db_to_umls.add((db_id, cui))\n",
    "    umls_to_db[cui] = db_id\n",
    "\n",
    "    old_db_id = int(str_db_id)\n",
    "    for name,(old_id,_) in threehop_entities_dict.items():\n",
    "        if old_id == old_db_id:\n",
    "            db_entities_json[name] = [db_id, \"1\"]"
   ]
  },
  {
   "cell_type": "code",
   "execution_count": null,
   "id": "211c23bc",
   "metadata": {},
   "outputs": [],
   "source": [
    "threehop_entities_dict['Tacrolimus Bulk powder']"
   ]
  },
  {
   "cell_type": "code",
   "execution_count": null,
   "id": "a514b73b",
   "metadata": {},
   "outputs": [],
   "source": [
    "# add relation information\n",
    "for _,rel_tuple in twohop_relations_dict.items():\n",
    "    (old_subj_id, old_obj_id, rel) = rel_tuple\n",
    "    \n",
    "    found_subj, found_obj = False, False\n",
    "    for name,(old_id,_) in twohop_entities_dict.items():\n",
    "        if found_subj and found_obj:\n",
    "            break\n",
    "        if old_id == old_subj_id:\n",
    "            subj_id = db_entities_json[name][0]\n",
    "            found_subj = True\n",
    "        if old_id == old_obj_id:\n",
    "            obj_id = db_entities_json[name][0]\n",
    "            found_obj = True\n",
    "    add_relation = (subj_id, obj_id, rel)\n",
    "    relation_id = db_relation_ids[add_relation]\n",
    "    db_relations_json[relation_id] = list(add_relation)\n",
    "count = 0 \n",
    "for _,rel_tuple in threehop_relations_dict.items():\n",
    "    (old_subj_id, old_obj_id, rel) = rel_tuple\n",
    "    \n",
    "    found_subj, found_obj = False, False\n",
    "    for name,(old_id,_) in threehop_entities_dict.items():\n",
    "        if found_subj and found_obj:\n",
    "            break\n",
    "        if old_id == old_subj_id:\n",
    "            subj_id = db_entities_json[name][0]\n",
    "            found_subj = True\n",
    "        if old_id == old_obj_id:\n",
    "            obj_id = db_entities_json[name][0]\n",
    "            found_obj = True\n",
    "    add_relation = (subj_id, obj_id, rel)\n",
    "    relation_id = db_relation_ids[add_relation]\n",
    "    db_relations_json[relation_id] = list(add_relation)"
   ]
  },
  {
   "cell_type": "code",
   "execution_count": null,
   "id": "3a367a8a",
   "metadata": {},
   "outputs": [],
   "source": [
    "with open(target_ddb_to_umls_cui_file, 'w', encoding='utf-8') as f:\n",
    "    f.write('\\t'.join([\"LinkItemsToUMLSCUIID\", \"ItemPTR\", \"CUI\", \"ItemToUMLSCUILinkTypePTR\"]) + '\\n')\n",
    "    for row in sorted(list(db_to_umls)):\n",
    "        db_ptr = row[0]\n",
    "        cui = row[1]\n",
    "        row = [\"0\", str(db_ptr), cui, \"0\"]\n",
    "        f.write('\\t'.join(row) + '\\n')\n",
    "\n",
    "with open(target_entities_file, 'w') as f:\n",
    "    json.dump(db_entities_json, f)\n",
    "\n",
    "with open(target_relations_file, 'w') as f:\n",
    "    json.dump(db_relations_json, f)"
   ]
  },
  {
   "cell_type": "code",
   "execution_count": null,
   "id": "37f3cf58",
   "metadata": {},
   "outputs": [],
   "source": [
    "len(db_relations_json), len(twohop_relations_dict), len(threehop_relations_dict)"
   ]
  },
  {
   "cell_type": "code",
   "execution_count": null,
   "id": "f37d27e8",
   "metadata": {},
   "outputs": [],
   "source": []
  }
 ],
 "metadata": {
  "kernelspec": {
   "display_name": "Python 3 (ipykernel)",
   "language": "python",
   "name": "python3"
  },
  "language_info": {
   "codemirror_mode": {
    "name": "ipython",
    "version": 3
   },
   "file_extension": ".py",
   "mimetype": "text/x-python",
   "name": "python",
   "nbconvert_exporter": "python",
   "pygments_lexer": "ipython3",
   "version": "3.9.12"
  }
 },
 "nbformat": 4,
 "nbformat_minor": 5
}
